{
 "cells": [
  {
   "cell_type": "markdown",
   "metadata": {},
   "source": [
    "LIBRARIES"
   ]
  },
  {
   "cell_type": "code",
   "execution_count": 1,
   "metadata": {},
   "outputs": [],
   "source": [
    "import numpy as np\n",
    "import pandas as pd\n",
    "import matplotlib.pyplot as plt\n",
    "from sklearn.linear_model import LinearRegression , Ridge , RidgeCV ,Lasso , LassoCV , LogisticRegression \n",
    "from sklearn.preprocessing import PolynomialFeatures\n",
    "from sklearn import datasets\n",
    "from sklearn.model_selection import train_test_split , cross_val_score\n",
    "from sklearn.metrics import make_scorer"
   ]
  },
  {
   "cell_type": "markdown",
   "metadata": {},
   "source": [
    "IMPORT DATASET"
   ]
  },
  {
   "cell_type": "code",
   "execution_count": 2,
   "metadata": {},
   "outputs": [],
   "source": [
    "dataset = datasets.load_diabetes()\n",
    "X = dataset.data\n",
    "Y = dataset.target"
   ]
  },
  {
   "cell_type": "markdown",
   "metadata": {},
   "source": [
    "DATA FRAME "
   ]
  },
  {
   "cell_type": "code",
   "execution_count": 3,
   "metadata": {},
   "outputs": [],
   "source": [
    "df = pd.DataFrame(dataset.data , columns= dataset.feature_names)"
   ]
  },
  {
   "cell_type": "code",
   "execution_count": 4,
   "metadata": {},
   "outputs": [
    {
     "data": {
      "text/html": [
       "<div>\n",
       "<style scoped>\n",
       "    .dataframe tbody tr th:only-of-type {\n",
       "        vertical-align: middle;\n",
       "    }\n",
       "\n",
       "    .dataframe tbody tr th {\n",
       "        vertical-align: top;\n",
       "    }\n",
       "\n",
       "    .dataframe thead th {\n",
       "        text-align: right;\n",
       "    }\n",
       "</style>\n",
       "<table border=\"1\" class=\"dataframe\">\n",
       "  <thead>\n",
       "    <tr style=\"text-align: right;\">\n",
       "      <th></th>\n",
       "      <th>age</th>\n",
       "      <th>sex</th>\n",
       "      <th>bmi</th>\n",
       "      <th>bp</th>\n",
       "      <th>s1</th>\n",
       "      <th>s2</th>\n",
       "      <th>s3</th>\n",
       "      <th>s4</th>\n",
       "      <th>s5</th>\n",
       "      <th>s6</th>\n",
       "    </tr>\n",
       "  </thead>\n",
       "  <tbody>\n",
       "    <tr>\n",
       "      <th>0</th>\n",
       "      <td>0.038076</td>\n",
       "      <td>0.050680</td>\n",
       "      <td>0.061696</td>\n",
       "      <td>0.021872</td>\n",
       "      <td>-0.044223</td>\n",
       "      <td>-0.034821</td>\n",
       "      <td>-0.043401</td>\n",
       "      <td>-0.002592</td>\n",
       "      <td>0.019908</td>\n",
       "      <td>-0.017646</td>\n",
       "    </tr>\n",
       "    <tr>\n",
       "      <th>1</th>\n",
       "      <td>-0.001882</td>\n",
       "      <td>-0.044642</td>\n",
       "      <td>-0.051474</td>\n",
       "      <td>-0.026328</td>\n",
       "      <td>-0.008449</td>\n",
       "      <td>-0.019163</td>\n",
       "      <td>0.074412</td>\n",
       "      <td>-0.039493</td>\n",
       "      <td>-0.068330</td>\n",
       "      <td>-0.092204</td>\n",
       "    </tr>\n",
       "    <tr>\n",
       "      <th>2</th>\n",
       "      <td>0.085299</td>\n",
       "      <td>0.050680</td>\n",
       "      <td>0.044451</td>\n",
       "      <td>-0.005671</td>\n",
       "      <td>-0.045599</td>\n",
       "      <td>-0.034194</td>\n",
       "      <td>-0.032356</td>\n",
       "      <td>-0.002592</td>\n",
       "      <td>0.002864</td>\n",
       "      <td>-0.025930</td>\n",
       "    </tr>\n",
       "    <tr>\n",
       "      <th>3</th>\n",
       "      <td>-0.089063</td>\n",
       "      <td>-0.044642</td>\n",
       "      <td>-0.011595</td>\n",
       "      <td>-0.036656</td>\n",
       "      <td>0.012191</td>\n",
       "      <td>0.024991</td>\n",
       "      <td>-0.036038</td>\n",
       "      <td>0.034309</td>\n",
       "      <td>0.022692</td>\n",
       "      <td>-0.009362</td>\n",
       "    </tr>\n",
       "    <tr>\n",
       "      <th>4</th>\n",
       "      <td>0.005383</td>\n",
       "      <td>-0.044642</td>\n",
       "      <td>-0.036385</td>\n",
       "      <td>0.021872</td>\n",
       "      <td>0.003935</td>\n",
       "      <td>0.015596</td>\n",
       "      <td>0.008142</td>\n",
       "      <td>-0.002592</td>\n",
       "      <td>-0.031991</td>\n",
       "      <td>-0.046641</td>\n",
       "    </tr>\n",
       "  </tbody>\n",
       "</table>\n",
       "</div>"
      ],
      "text/plain": [
       "        age       sex       bmi        bp        s1        s2        s3  \\\n",
       "0  0.038076  0.050680  0.061696  0.021872 -0.044223 -0.034821 -0.043401   \n",
       "1 -0.001882 -0.044642 -0.051474 -0.026328 -0.008449 -0.019163  0.074412   \n",
       "2  0.085299  0.050680  0.044451 -0.005671 -0.045599 -0.034194 -0.032356   \n",
       "3 -0.089063 -0.044642 -0.011595 -0.036656  0.012191  0.024991 -0.036038   \n",
       "4  0.005383 -0.044642 -0.036385  0.021872  0.003935  0.015596  0.008142   \n",
       "\n",
       "         s4        s5        s6  \n",
       "0 -0.002592  0.019908 -0.017646  \n",
       "1 -0.039493 -0.068330 -0.092204  \n",
       "2 -0.002592  0.002864 -0.025930  \n",
       "3  0.034309  0.022692 -0.009362  \n",
       "4 -0.002592 -0.031991 -0.046641  "
      ]
     },
     "execution_count": 4,
     "metadata": {},
     "output_type": "execute_result"
    }
   ],
   "source": [
    "df.head()"
   ]
  },
  {
   "cell_type": "markdown",
   "metadata": {},
   "source": [
    "LINEAR REGRESSION"
   ]
  },
  {
   "cell_type": "code",
   "execution_count": 5,
   "metadata": {},
   "outputs": [
    {
     "name": "stdout",
     "output_type": "stream",
     "text": [
      "Line Regression Train Score :  64.29497505645962\n",
      "(44, 10) (44,) (398, 10) (398,)\n"
     ]
    }
   ],
   "source": [
    "x_train , x_test , y_train , y_test =train_test_split(X , Y , test_size = 0.90, random_state = 0)\n",
    "\n",
    "reg1= LinearRegression(fit_intercept=True)\n",
    "reg1.fit(x_train , y_train)\n",
    "\n",
    "print(\"Line Regression Train Score : \" ,reg1.score(x_train , y_train )*100)\n",
    "Y_predict = reg1.predict(x_test)\n",
    "\n",
    "print(x_train.shape, y_train.shape , x_test.shape , y_test.shape)\n",
    "# print(\"Regression coefficient:\" , reg.coef_)"
   ]
  },
  {
   "cell_type": "code",
   "execution_count": 6,
   "metadata": {},
   "outputs": [
    {
     "name": "stdout",
     "output_type": "stream",
     "text": [
      "Line Regression Train Score :  42.89023937312362\n",
      "Line Regression Train Score :  42.4465052285843\n",
      "Line Regression Train Score :  43.419519588327105\n",
      "Line Regression Train Score :  44.00856032490786\n",
      "Line Regression Train Score :  44.18915587534998\n",
      "Line Regression Train Score :  44.78173806578889\n",
      "Line Regression Train Score :  47.51360246561514\n",
      "Line Regression Train Score :  47.00304242888945\n",
      "Line Regression Train Score :  46.7681746059565\n",
      "Line Regression Train Score :  46.3581783108087\n"
     ]
    },
    {
     "data": {
      "text/plain": [
       "[<matplotlib.lines.Line2D at 0x160d88d5588>]"
      ]
     },
     "execution_count": 6,
     "metadata": {},
     "output_type": "execute_result"
    },
    {
     "data": {
      "image/png": "[encoded data removed]",
      "text/plain": [
       "<Figure size 432x288 with 1 Axes>"
      ]
     },
     "metadata": {
      "needs_background": "light"
     },
     "output_type": "display_data"
    }
   ],
   "source": [
    "************SCORE PER ITERATION OF THE TEST SIZE =10************\n",
    "\n",
    "x = []\n",
    "y = []\n",
    "i =1 \n",
    "for i in range(1 ,11):\n",
    "    x.append(i*10)\n",
    "    x_train , x_test , y_train , y_test =train_test_split(X , Y , test_size = i*10, random_state = 0)\n",
    "    print(\"Line Regression Train Score : \" ,reg1.score(x_train , y_train )*100)\n",
    "    y.append(reg1.score(x_train , y_train )*100)\n",
    "    \n",
    "x_ = np.array(x)\n",
    "y_ = np.array(y)\n",
    "plt.plot(x , y , 'ro')"
   ]
  },
  {
   "cell_type": "code",
   "execution_count": 7,
   "metadata": {},
   "outputs": [
    {
     "name": "stdout",
     "output_type": "stream",
     "text": [
      "Line Regression Test Score :  42.59969756909936\n"
     ]
    }
   ],
   "source": [
    "reg2 = LinearRegression(fit_intercept=True)\n",
    "reg2.fit(x_test , y_test)\n",
    "\n",
    "print(\"Line Regression Test Score : \" ,reg2.score(x_test , y_test )*100)"
   ]
  },
  {
   "cell_type": "code",
   "execution_count": 8,
   "metadata": {},
   "outputs": [
    {
     "name": "stdout",
     "output_type": "stream",
     "text": [
      "Line Regression Train Score :  11.374791939847784\n",
      "Line Regression Train Score :  41.22112827420275\n",
      "Line Regression Train Score :  26.22166410976319\n",
      "Line Regression Train Score :  21.324199882100448\n",
      "Line Regression Train Score :  23.1183156474531\n",
      "Line Regression Train Score :  20.218443564365252\n",
      "Line Regression Train Score :  9.215849678446043\n",
      "Line Regression Train Score :  16.337598937607556\n",
      "Line Regression Train Score :  22.003975081308347\n",
      "Line Regression Train Score :  25.784298991794753\n"
     ]
    },
    {
     "data": {
      "text/plain": [
       "[<matplotlib.lines.Line2D at 0x160d8973908>]"
      ]
     },
     "execution_count": 8,
     "metadata": {},
     "output_type": "execute_result"
    },
    {
     "data": {
      "image/png": "[encoded data removed]",
      "text/plain": [
       "<Figure size 432x288 with 1 Axes>"
      ]
     },
     "metadata": {
      "needs_background": "light"
     },
     "output_type": "display_data"
    }
   ],
   "source": [
    "x = []\n",
    "y = []\n",
    "i =1 \n",
    "for i in range(1 ,11):\n",
    "    x.append(i*10)\n",
    "    x_train , x_test , y_train , y_test =train_test_split(X , Y , test_size = i*10, random_state = 0)\n",
    "    print(\"Line Regression Train Score : \" ,reg1.score(x_test , y_test )*100)\n",
    "    y.append(reg1.score(x_test , y_test )*100)\n",
    "    \n",
    "x_ = np.array(x)\n",
    "y_ = np.array(y)\n",
    "plt.plot(x , y , 'r<')"
   ]
  },
  {
   "cell_type": "markdown",
   "metadata": {},
   "source": [
    "RIDGE REGRESSION"
   ]
  },
  {
   "cell_type": "code",
   "execution_count": 9,
   "metadata": {},
   "outputs": [
    {
     "name": "stdout",
     "output_type": "stream",
     "text": [
      "Ridge Train Score: 54.9988494225342\n",
      "Ridge CV Train score : 52.07829604102612\n"
     ]
    }
   ],
   "source": [
    "Rid1 = Ridge(alpha = 0.05, max_iter= 100000 , tol =0.000001 )\n",
    "Rid1.fit(x_train , y_train)\n",
    "print(\"Ridge Train Score:\" , Rid1.score(x_train , y_train)*100)\n",
    "print(\"Ridge CV Train score :\",cross_val_score(Rid1 , x_train , y_train ,cv=5).mean()*100)\n"
   ]
  },
  {
   "cell_type": "code",
   "execution_count": 10,
   "metadata": {
    "scrolled": true
   },
   "outputs": [
    {
     "name": "stdout",
     "output_type": "stream",
     "text": [
      "Ridge Test Score :  42.5995297223778\n",
      "Ridge CV Test score : 27.439425685598767\n"
     ]
    }
   ],
   "source": [
    "Rid2 =Ridge(alpha = 0.000005, max_iter=10000000 , tol=0.0000001)\n",
    "Rid2.fit(x_test , y_test)\n",
    "print(\"Ridge Test Score : \" , Rid2.score(x_test , y_test)*100 )\n",
    "print(\"Ridge CV Test score :\",cross_val_score(Rid2 ,x_test , y_test ,cv=5).mean()*100)"
   ]
  },
  {
   "cell_type": "code",
   "execution_count": 11,
   "metadata": {},
   "outputs": [
    {
     "data": {
      "text/plain": [
       "0.1"
      ]
     },
     "execution_count": 11,
     "metadata": {},
     "output_type": "execute_result"
    }
   ],
   "source": [
    "r1 = RidgeCV(alphas=(0.1, 1.0, 0.001, 0.0001, 0.05, 0.5, 0.005))\n",
    "r1.fit(x_test , y_test)\n",
    "r1.alpha_"
   ]
  },
  {
   "cell_type": "markdown",
   "metadata": {},
   "source": [
    "LASSO REGRESSION "
   ]
  },
  {
   "cell_type": "code",
   "execution_count": 12,
   "metadata": {},
   "outputs": [
    {
     "name": "stdout",
     "output_type": "stream",
     "text": [
      "Lasso Train Score: 54.54251299297339\n",
      "Lasso CV Train score : 52.14846972540557\n"
     ]
    }
   ],
   "source": [
    "las1 = Lasso(alpha = 0.1 , max_iter = 1000 , tol = 0.001)\n",
    "las1.fit(x_train , y_train)\n",
    "print(\"Lasso Train Score:\" , las1.score(x_train , y_train)*100)\n",
    "print(\"Lasso CV Train score :\",cross_val_score(las1 , x_train , y_train ,cv=5).mean()*100)\n"
   ]
  },
  {
   "cell_type": "code",
   "execution_count": 13,
   "metadata": {},
   "outputs": [
    {
     "name": "stdout",
     "output_type": "stream",
     "text": [
      "Lasso Test Score: 42.599697556844\n",
      "Lasso CV Test score : 51.938661514027395\n"
     ]
    }
   ],
   "source": [
    "las2 = Lasso(alpha = 0.000001 , max_iter = 100000 , tol = 0.00001)\n",
    "las2.fit(x_test , y_test)\n",
    "print(\"Lasso Test Score:\" , las2.score(x_test , y_test)*100)\n",
    "print(\"Lasso CV Test score :\",cross_val_score(las2 , x_train , y_train ,cv=5).mean()*100)"
   ]
  },
  {
   "cell_type": "markdown",
   "metadata": {},
   "source": [
    "LOGISTIC REGRESSION "
   ]
  },
  {
   "cell_type": "code",
   "execution_count": 14,
   "metadata": {},
   "outputs": [
    {
     "name": "stdout",
     "output_type": "stream",
     "text": [
      "Logistic Regression Train Score: 4.093567251461988\n"
     ]
    }
   ],
   "source": [
    "log1 = LogisticRegression(C= 2.0 , solver=\"sag\", multi_class=\"multinomial\" , max_iter =10000 , tol = 0.0001)\n",
    "log1.fit(x_train , y_train )\n",
    "print(\"Logistic Regression Train Score:\" ,log1.score(x_train, y_train)*100)"
   ]
  },
  {
   "cell_type": "code",
   "execution_count": 20,
   "metadata": {},
   "outputs": [
    {
     "name": "stdout",
     "output_type": "stream",
     "text": [
      "Logistic Regression Test Score: 1.0\n"
     ]
    }
   ],
   "source": [
    "log2 = LogisticRegression(C= 1.0 , solver=\"sag\", multi_class=\"multinomial\" , max_iter =100 , tol = 0.01)\n",
    "log2.fit(x_train , y_train )\n",
    "print(\"Logistic Regression Test Score:\" ,log2.score(x_test, y_test)*100)"
   ]
  },
  {
   "cell_type": "markdown",
   "metadata": {},
   "source": [
    "IN LOGISTIC REGRESSION ,THIS DATASET IS NOT A CLASSIFIED DATASET WHICH FITS INTO THIS ALGO .\n",
    "\n",
    "THEREFORE , THE SCORE IN TEST AND TRAIN SET IS NOT A VALID ONE.\n",
    "(USE A CLASSIFICAION DATASET FOR LOGISTIC REG.)"
   ]
  },
  {
   "cell_type": "markdown",
   "metadata": {},
   "source": [
    "POLYNOMIAL REGRESSION"
   ]
  },
  {
   "cell_type": "code",
   "execution_count": 23,
   "metadata": {},
   "outputs": [
    {
     "data": {
      "text/plain": [
       "array([[ 1.00000000e+00,  9.01559883e-03, -4.46416365e-02, ...,\n",
       "        -2.85201347e-06,  6.36879297e-07, -1.42220660e-07],\n",
       "       [ 1.00000000e+00, -9.26954778e-02, -4.46416365e-02, ...,\n",
       "        -1.63386137e-04, -3.82260297e-04, -8.94341087e-04],\n",
       "       [ 1.00000000e+00,  5.26060602e-02,  5.06801187e-02, ...,\n",
       "        -2.51333566e-04,  3.71620171e-05, -5.49475162e-06],\n",
       "       ...,\n",
       "       [ 1.00000000e+00,  5.98711371e-02, -4.46416365e-02, ...,\n",
       "         8.48949794e-04,  1.45508168e-03,  2.49397868e-03],\n",
       "       [ 1.00000000e+00, -7.81653240e-02, -4.46416365e-02, ...,\n",
       "        -2.75484996e-05, -1.27598601e-04, -5.91008703e-04],\n",
       "       [ 1.00000000e+00,  4.17084449e-02,  5.06801187e-02, ...,\n",
       "         4.62953784e-04,  5.41761600e-04,  6.33984733e-04]])"
      ]
     },
     "execution_count": 23,
     "metadata": {},
     "output_type": "execute_result"
    }
   ],
   "source": [
    "poly = PolynomialFeatures(3)\n",
    "poly.fit_transform(x_train , y_train )\n",
    "# print(\"Polynomial Regression Train Score:\", poly.score(x_train , y_train )*100)\n"
   ]
  },
  {
   "cell_type": "code",
   "execution_count": null,
   "metadata": {},
   "outputs": [],
   "source": [
    "THIS ABOVE ARE THE VALUE OF COEFFICIENTS IN THE POLYNOMIAL EQUATION"
   ]
  },
  {
   "cell_type": "code",
   "execution_count": 17,
   "metadata": {},
   "outputs": [
    {
     "data": {
      "text/plain": [
       "PolynomialFeatures(degree=3, include_bias=True, interaction_only=False,\n",
       "                   order='C')"
      ]
     },
     "execution_count": 17,
     "metadata": {},
     "output_type": "execute_result"
    }
   ],
   "source": [
    "poly"
   ]
  },
  {
   "cell_type": "code",
   "execution_count": null,
   "metadata": {},
   "outputs": [],
   "source": []
  }
 ],
 "metadata": {
  "kernelspec": {
   "display_name": "Python 3",
   "language": "python",
   "name": "python3"
  },
  "language_info": {
   "codemirror_mode": {
    "name": "ipython",
    "version": 3
   },
   "file_extension": ".py",
   "mimetype": "text/x-python",
   "name": "python",
   "nbconvert_exporter": "python",
   "pygments_lexer": "ipython3",
   "version": "3.7.3"
  }
 },
 "nbformat": 4,
 "nbformat_minor": 2
}
